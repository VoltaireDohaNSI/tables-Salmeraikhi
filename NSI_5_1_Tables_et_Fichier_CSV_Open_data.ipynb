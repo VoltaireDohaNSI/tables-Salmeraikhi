{
 "cells": [
  {
   "cell_type": "markdown",
   "metadata": {},
   "source": [
    "# Structure de données en table\n",
    "\n",
    "On peut considérer qu'une table est une __collection d'éléments__. Chaque élément ayant les mêmes __attributs__ que les autres, on catégorise ces attributs par un __descripteur__. L'ensemble des attributs d'un élément est appelé un __enregistrement__.\n",
    "\n",
    "Concrètement, un table est donc, le plus souvent, un __tableau de tableaux__ ou, encore plus souvent, un __tableau de dictionnaires__.\n",
    "\n",
    "Dans le cas du tableau de dictionnaires, __chaque dictionnaire est un enregistrement qui contient les attributs d'un élément__. \n",
    "\n",
    "__Les clés des dictionnaires sont les descripteurs__ des attributs. Les valeurs sont les attributs eux-mêmes.\n",
    "\n",
    "## Rappels sur le format CSV\n",
    "\n",
    "__Le format de fichier CSV, pour l’anglais Comma-separated values__, soit « données séparées par des virgules », est un __format texte ouvert__, représentant des données sous forme de __valeurs séparées par des séparateurs__, éventuellement sur plusieurs lignes.\n",
    "Initialement le séparateur était « , », il peut aussi être « ; » ou « | ».\n",
    "\n",
    "Le format CSV est un __format très utilisé pour représenter des données structurées, notamment pour importer ou exporter des données à partir d'une feuille de calculs d'un tableur__. C'est un fichier texte dans lequel __chaque ligne correspond à une ligne du tableau__.\n",
    "\n",
    "## Open data\n",
    "### L'open data, c'est quoi ?\n",
    "\n",
    "L'open data désigne l'effort que font les institutions, notamment gouvernementales, qui __partagent les données__ dont elles disposent. Ce partage doit être __gratuit__, dans des __formats ouverts__, et __permettre la réutilisation des données__. La politique du Gouvernement s'appuie notamment sur le droit d'accès aux documents administratifs (loi Cada 1978), qui considère que les données produites ou détenues par les administrations, dans le cadre de leurs missions de service public, doivent être mises à disposition du public. __Cela ne concerne ni les informations personnelles, ni celles touchant à la sécurité nationale, ni celles couvertes par les différents secrets légaux__.\n",
    "\n",
    "Source : [Gouvernement.fr](https://www.gouvernement.fr/action/l-ouverture-des-donnees-publiques)\n",
    "\n",
    "### L'open data, pourquoi ?\n",
    "\n",
    "L'open data est un outil au service de __trois objectifs__ :\n",
    " \n",
    "- améliorer le __fonctionnement démocratique__, non seulement par la transparence mais par la concertation et l'ouverture à de nouveaux points de vue.\n",
    "- améliorer l'__efficacité__ de l'action publique.\n",
    "- proposer de nouvelles ressources pour l'__innovation__ économique et sociale : les données partagées trouvent des réutilisateurs qui les intègrent dans de nouveaux services à forte valeur ajoutée économique ou sociale.\n",
    "\n",
    "Source : [Gouvernement.fr](https://www.gouvernement.fr/action/l-ouverture-des-donnees-publiques)\n",
    "\n",
    "### L'open data, comment ?\n",
    "\n",
    "De nombreux états et collectivités ont ouvert une partie de leur données publiques.\n",
    "\n",
    "En France, le site [data.gouv.fr](https://www.data.gouv.fr/fr/) est une référence incontournable.\n",
    "\n",
    "Pour cette activité, nous nous tournerons vers un site plus local : [data.nantesmetropole.fr](https://data.nantesmetropole.fr/explore)\n",
    "\n",
    "## Quels sont les prénoms nantais les plus populaires ?\n",
    "### Création de la table de données à partir du fichier CSV\n",
    "\n",
    "__Consulter les informations__ décrivant le jeu de données mis à disposition par Nantes Métropole à cette adresse : [data.nantesmetropole.fr](https://data.nantesmetropole.fr/explore/dataset/244400404_prenoms-enfants-nes-nantes/information/?disjunctive.prenom&disjunctive.sexe)\n",
    "\n",
    "> __Remarque :__ on note que, pour des raisons de confidentialité, seuls les prénoms dont l'occurrence annuelle est supérieure à 5 sont répertoriés dans ce jeu de données.\n",
    "\n",
    "__Télécharger__ ces données au __format CSV__, en cliquant sur l'onglet __Export__.\n",
    "\n",
    "__Créer une table à partir du fichier CSV__. Pour cela, reprendre le __notebook NSI_P1__ au besoin. Comme nous l'avons vu dans ce notebook, il est plus judicieux de créer un tableau de dictionnaires.\n",
    "\n",
    "Vous devriez obtenir une table `table_prenoms`, comme celle-ci :\n",
    "\n",
    "```\n",
    "[{'Prénom': 'IRIS', 'Sexe': 'FILLE', 'Année de naissance': '2019', 'Occurence': '25.0'}, {'Prénom': 'ROMY', 'Sexe': 'FILLE', 'Année de naissance': '2019', 'Occurence': '19.0'}, {'Prénom': 'MARGOT', 'Sexe': 'FILLE', 'Année de naissance': '2019', 'Occurence': '13.0'}, ...\n",
    "{'Prénom': 'TIMOTHÉE', 'Sexe': 'GARCON', 'Année de naissance': '2001', 'Occurence': '6.0'}]\n",
    "```"
   ]
  },
  {
   "cell_type": "code",
   "execution_count": null,
   "metadata": {},
   "outputs": [],
   "source": []
  },
  {
   "cell_type": "markdown",
   "metadata": {},
   "source": [
    "### Vocabulaire des tables\n",
    "\n",
    "Dans la table que vous venez de construire, repérer et donner un exemple...\n",
    "\n",
    "- d'enregistrement : \n",
    "- de descripteur : \n",
    "- d'attribut : \n",
    "\n",
    "> __Remarque :__ \n",
    "- pour un descripteur donné, les attributs de tous les enregistrements doivent être de même type.\n",
    "- il aurait sans doute été plus judicieux que les attributs du descripteur `'Occurence'` soit du type `int`.\n",
    "- il aurait été encore plus judicieux de ne pas faire de faute d'orthographe au mot occurrence...\n",
    "\n",
    "### Recherches dans une table\n",
    "\n",
    "En premier lieu, on peut afficher __combien de données ont été saisies__."
   ]
  },
  {
   "cell_type": "code",
   "execution_count": null,
   "metadata": {},
   "outputs": [],
   "source": [
    "len(table_prenoms)"
   ]
  },
  {
   "cell_type": "markdown",
   "metadata": {},
   "source": [
    "Pour le reste, ce sera un peu plus compliqué : comme nous ne connaissons pas les indices correspondants à chaque saisie (1 prénom, 1 année), __il faudra faire des recherches sur l'ensemble du tableau__.\n",
    "\n",
    "On rappelle que seuls les prénoms ayant été donnés au moins 5 fois dans l'année ont été saisis. __Rechercher un prénom rare__ (ex : Jean-Michel, Thaïs, Bob, Aya, Lilwenn, Casimir,...) dans la table, pour savoir s'il a déjà été répertorié au moins une année. \n",
    "\n",
    "> __Remarque :__ \n",
    "- Privilégier la création d'une fonction. Ex : `recherche_prenom(prenom)`\n",
    "- Les prénoms étant saisis en majuscule, l'utilisation de la méthode [`.upper()`](https://www.programiz.com/python-programming/methods/string/upper) peut être utile."
   ]
  },
  {
   "cell_type": "code",
   "execution_count": null,
   "metadata": {},
   "outputs": [],
   "source": [
    "def recherche_prenom(prenom):\n",
    "\n",
    "    \n",
    "\n",
    "recherche_prenom('Thaïs')"
   ]
  },
  {
   "cell_type": "markdown",
   "metadata": {},
   "source": [
    "Améliorer la fonction pour qu'elle prenne également en paramètre la table de prénoms : `recherche_prenom(table, prenom)`"
   ]
  },
  {
   "cell_type": "code",
   "execution_count": null,
   "metadata": {},
   "outputs": [],
   "source": [
    "def recherche_prenom(table, prenom):\n",
    "\n",
    "\n",
    "recherche_prenom(table_prenoms, 'Thaïs')"
   ]
  },
  {
   "cell_type": "markdown",
   "metadata": {},
   "source": [
    "Améliorer la fonction pour qu'elle renvoie le nombre d'années où ce prénom a dépassé les 5 occurrences."
   ]
  },
  {
   "cell_type": "code",
   "execution_count": null,
   "metadata": {},
   "outputs": [],
   "source": [
    "def recherche_prenom(table, prenom):\n",
    "\n",
    "\n",
    "recherche_prenom(table_prenoms, 'Bob')"
   ]
  },
  {
   "cell_type": "markdown",
   "metadata": {},
   "source": [
    "Créer une fonction `occurrence_prenom(table, prenom)` qui renvoie le nombre de fois où ce prénom a été donné (en ne comptant que les années où il a dépassé les 5 occurrences bien sûr)."
   ]
  },
  {
   "cell_type": "code",
   "execution_count": null,
   "metadata": {},
   "outputs": [],
   "source": [
    "def occurrence_prenom(table, prenom):\n",
    "\n",
    "\n",
    "occurrence_prenom(table_prenoms, 'Swann')"
   ]
  },
  {
   "cell_type": "markdown",
   "metadata": {},
   "source": [
    "Créer une fonction `occurrence_prenom_fille(table, prenom)` qui renvoie le nombre de fois où ce prénom a été donné à une fille (en ne comptant que les années où il a dépassé les 5 occurrences bien sûr).\n",
    "\n",
    "Faire un essai sur un prénom épicène, comme Swann par exemple."
   ]
  },
  {
   "cell_type": "code",
   "execution_count": null,
   "metadata": {},
   "outputs": [],
   "source": [
    "def occurrence_prenom_fille(table, prenom):\n",
    "    occurence=0\n",
    "\n",
    "\n",
    "occurrence_prenom_fille(table_prenoms, 'Swann')"
   ]
  },
  {
   "cell_type": "markdown",
   "metadata": {},
   "source": [
    "Créer une fonction `annees_prenom(table, prenom)` qui renvoie une liste triée contenant les années où ce prénom a été donné (en ne comptant que les années où il a dépassé les 5 occurrences bien sûr)."
   ]
  },
  {
   "cell_type": "code",
   "execution_count": null,
   "metadata": {},
   "outputs": [],
   "source": [
    "def annees_prenom(table, prenom):\n",
    "\n",
    "\n",
    "annees_prenom(table_prenoms, 'Swann')"
   ]
  },
  {
   "cell_type": "markdown",
   "metadata": {},
   "source": [
    "Modifier la fonction `annees_prenom(table, prenom)` pour renvoyer une liste triées contenant des tuples (année, occurrence) où ce prénom a été donné (en ne comptant que les années où il a dépassé les 5 occurrences bien sûr)."
   ]
  },
  {
   "cell_type": "code",
   "execution_count": null,
   "metadata": {},
   "outputs": [],
   "source": [
    "def annees_prenom(table, prenom):\n",
    "\n",
    "\n",
    "annees_prenom(table_prenoms, 'Ernest')"
   ]
  },
  {
   "cell_type": "markdown",
   "metadata": {},
   "source": [
    "Créer une fonction `annees_prenom(table, prenom, annee=2001)` qui renvoie une liste triée contenant  des tuples (année, occurrence) où ce prénom a été donné (en ne comptant que les années où il a dépassé les 5 occurrences bien sûr), à partir de l'année entrée en paramètre seulement."
   ]
  },
  {
   "cell_type": "code",
   "execution_count": null,
   "metadata": {
    "scrolled": true
   },
   "outputs": [],
   "source": [
    "def annees_prenom(table, prenom, annee=2001):\n",
    "\n",
    "\n",
    "annees_prenom(table_prenoms, 'Jules', 2015)"
   ]
  },
  {
   "cell_type": "markdown",
   "metadata": {},
   "source": [
    "> __Remarque :__ la syntaxe `annee=2001` (sans espaces autour du signe `=`) permet de donner une valeur par défaut au paramètre `annee`, dans le cas où l'utilisateur ne mettrait que deux paramètres : la table et le prénom."
   ]
  },
  {
   "cell_type": "code",
   "execution_count": null,
   "metadata": {},
   "outputs": [],
   "source": [
    "annees_prenom(table_prenoms, 'Jules')"
   ]
  },
  {
   "cell_type": "markdown",
   "metadata": {},
   "source": [
    "Créer une fonction `occurrences_par_annees(table)` qui renvoie un dictionnaire ayant pour clés les années et pour valeur le nombre de naissances sur l'année."
   ]
  },
  {
   "cell_type": "code",
   "execution_count": null,
   "metadata": {},
   "outputs": [],
   "source": [
    "def occurrences_par_annees(table):\n",
    "\n",
    "\n",
    "occurrences_par_annees(table_prenoms)"
   ]
  },
  {
   "cell_type": "markdown",
   "metadata": {},
   "source": [
    "Créer une fonction `meilleure_annees_naissance(table)` qui renvoie l'année où il y a eu le plus de naissances à Nantes et ce nombre de naissances (dans un tuple)."
   ]
  },
  {
   "cell_type": "code",
   "execution_count": null,
   "metadata": {},
   "outputs": [],
   "source": [
    "def meilleure_annees_naissance(table):\n",
    "\n",
    "    \n",
    "meilleure_annees_naissance(table_prenoms)"
   ]
  },
  {
   "cell_type": "markdown",
   "metadata": {},
   "source": [
    "Créer une fonction `meilleure_annees_prenom(table, prenom)` qui renvoie l'année où un prénom a été le plus de fois donné, et ce nombre de naissances (dans un tuple)."
   ]
  },
  {
   "cell_type": "code",
   "execution_count": null,
   "metadata": {},
   "outputs": [],
   "source": [
    "def meilleure_annees_prenom(table, prenom):\n",
    "\n",
    "    \n",
    "meilleure_annees_prenom(table_prenoms, 'Lucie')"
   ]
  },
  {
   "cell_type": "markdown",
   "metadata": {},
   "source": [
    "## Utilisation de la bibliothèque csv pour créer une table\n",
    "\n",
    "A partir de maintenant, il sera autorisé d'utiliser une bibliothèque Python qui facilite l'import et l'export de fichiers csv. Ce module (avec Python, on utilise indistinctement le terme bibliothèque ou module) est bien nommé `csv`.\n",
    "\n",
    "La fonction __`reader()` du module `csv`__ renvoie un objet itérable. Chaque élément de cet objet est une __liste__.\n",
    "\n",
    "La fonction __`DictReader()`__ du module `csv` renvoie un objet itérable aussi. Chaque élément de cet objet est un __dictionnaire dont les clés sont les descripteurs__.\n",
    "\n",
    "Le plus simple est encore de faire des essais pour s'en rendre compte...\n",
    "\n",
    "### Création d'un tableau de tableaux avec `reader()`, du module csv"
   ]
  },
  {
   "cell_type": "code",
   "execution_count": null,
   "metadata": {},
   "outputs": [],
   "source": [
    "# Ici on importe l'ensemble du module directement\n",
    "# Il faudra donc bien penser à faire précéder toutes les fonctions du module par csv.\n",
    "import csv\n",
    "\n",
    "with open(\"244400404_prenoms-enfants-nes-nantes.csv\", mode='r', encoding='utf-8') as f:\n",
    "    listes_reader = csv.reader(f)\n",
    "\n",
    "print(listes_reader)"
   ]
  },
  {
   "cell_type": "markdown",
   "metadata": {},
   "source": [
    "A ce stade, on constate que l'on a bien crée un objet de type csv.reader\n",
    "\n",
    "Voyons ce qu'il contient..."
   ]
  },
  {
   "cell_type": "code",
   "execution_count": null,
   "metadata": {},
   "outputs": [],
   "source": [
    "with open(\"244400404_prenoms-enfants-nes-nantes.csv\", mode='r', encoding='utf-8') as f:\n",
    "    listes_reader = csv.reader(f)\n",
    "\n",
    "for liste in listes_reader:\n",
    "    print(liste)"
   ]
  },
  {
   "cell_type": "markdown",
   "metadata": {},
   "source": [
    "> __Remarque :__ vous constaterez que que l'objet de type csv.reader n'est utilisable que lorsque le fichier est ouvert, ce qui n'est pas toujours très pratique.\n",
    "\n",
    "Une indentation devrait résoudre ce problème..."
   ]
  },
  {
   "cell_type": "code",
   "execution_count": null,
   "metadata": {},
   "outputs": [],
   "source": [
    "with open(\"244400404_prenoms-enfants-nes-nantes.csv\", mode='r', encoding='utf-8') as f:\n",
    "    listes_reader = csv.reader(f)\n",
    "    for liste in listes_reader:\n",
    "        print(liste)"
   ]
  },
  {
   "cell_type": "markdown",
   "metadata": {},
   "source": [
    "On voit que l'objet crée n'est pas une table mais un itérable contenant des listes de chaînes de caractères.\n",
    "\n",
    "Ces chaînes de caractères restent peu exploitables en soit et il faut utiliser le caractère séparateur (ici, le `;`) pour séparer les différents attributs :"
   ]
  },
  {
   "cell_type": "code",
   "execution_count": null,
   "metadata": {},
   "outputs": [],
   "source": [
    "with open(\"244400404_prenoms-enfants-nes-nantes.csv\", mode='r', encoding='utf-8') as f:\n",
    "    listes_reader = csv.reader(f, delimiter=';')\n",
    "    for liste in listes_reader:\n",
    "        print(liste)"
   ]
  },
  {
   "cell_type": "markdown",
   "metadata": {},
   "source": [
    "Ceci commence à ressembler à ne table mais nous n'y sommes pas encore..."
   ]
  },
  {
   "cell_type": "code",
   "execution_count": null,
   "metadata": {},
   "outputs": [],
   "source": [
    "with open(\"244400404_prenoms-enfants-nes-nantes.csv\", mode='r', encoding='utf-8') as f:\n",
    "    table_via_csv_reader = []\n",
    "    listes_reader = csv.reader(f, delimiter=';')\n",
    "    for liste in listes_reader:\n",
    "        table_via_csv_reader.append(liste)\n",
    "\n",
    "print(table_via_csv_reader)"
   ]
  },
  {
   "cell_type": "markdown",
   "metadata": {},
   "source": [
    "Voilà, nous avons __une table, sous la forme d'un tableau de tableaux__.\n",
    "\n",
    "Elle n'est toutefois __pas très pratique à utiliser car les descripteurs sont isolés dans le premier tableau__, mais cela reste exploitable.\n",
    "\n",
    "> __Remarque :__ on peut aussi créer cette table en compréhension, c'est encore plus rapide. A votre tour de vous entraîner dans la cellule ci-dessous..."
   ]
  },
  {
   "cell_type": "code",
   "execution_count": null,
   "metadata": {},
   "outputs": [],
   "source": []
  },
  {
   "cell_type": "markdown",
   "metadata": {},
   "source": [
    "### Création d'un tableau de dictionnaires avec `DictReader()`, du module csv\n",
    "\n",
    "Testons maintenant la fonction `DictReader()`, en sautant quelques étapes pour obtenir directement une table."
   ]
  },
  {
   "cell_type": "code",
   "execution_count": null,
   "metadata": {
    "scrolled": true
   },
   "outputs": [],
   "source": [
    "with open(\"244400404_prenoms-enfants-nes-nantes.csv\", mode='r', encoding='utf-8') as f:\n",
    "    table_via_csv_dictreader = []\n",
    "    dico_reader = csv.DictReader(f, delimiter=';')\n",
    "    for dictionnaire in dico_reader:\n",
    "        table_via_csv_dictreader.append(dictionnaire)\n",
    "\n",
    "print(table_via_csv_dictreader)"
   ]
  },
  {
   "cell_type": "markdown",
   "metadata": {},
   "source": [
    "Nous obtenons la __même table que celle que nous avions précédemment (`table_prenoms`) : un tableau de dictionnaires__. \n",
    "\n",
    "Le module `csv` permet d'aboutir à ce résultat de façon __plus simple et plus rapide__.\n",
    "\n",
    "> __Remarque :__ si, comme moi, vous préférez __créer la table en compréhension__, faites-vous plaisir ci-dessous."
   ]
  },
  {
   "cell_type": "code",
   "execution_count": null,
   "metadata": {},
   "outputs": [],
   "source": []
  },
  {
   "cell_type": "markdown",
   "metadata": {},
   "source": [
    "## Que retenir ?\n",
    "### À minima...\n",
    "\n",
    "- Un enregistrement réunit une série de descripteurs et d'attributs.\n",
    "- Une table est un tableau d'enregistrements ayant tous les mêmes descripteurs.\n",
    "- En Python, une table est le plus souvent une liste de dictionnaires.\n",
    "- Un fichier texte au format CSV est une suite de lignes :\n",
    "  - la première contient les descripteurs, séparés par un caractère spécial (ex : `;`).\n",
    "  - les suivantes contient les attributs, séparés par le même caractère spécial.\n",
    "- Pour faire une recherche dans une table...\n",
    "  - il faut la parcourir entièrement pour trouver le bon enregistrement (ex : `for element in table: if element == ... :`).\n",
    "  - sélectionner le bon attribut dans cet enregistrement.\n",
    "- Si l'enregistrement est un dictionnaire, on retrouve l'attribut voulu à l'aide de la clé correspondant au bon descripteur (ex : `element['Prénom']`)\n",
    "- Certains modules permettent de simplifier la programmation :\n",
    "  - l'exportation des données d'un fichier CSV vers une table est facilitée par le module csv.\n",
    "  - pour utiliser un module, il faut...\n",
    "    - auparavant importer ce module (ex : `import csv`).\n",
    "    - précéder le nom d'une fonction par le nom de ce module (ex : `csv.DictReader()`)\n",
    "  \n",
    "### Au mieux...\n",
    "\n",
    "- Savoir coder l'ensemble du processus d'export des données d'un fichier CSV vers une table, avec ou sans le module csv.\n",
    "- Savoir sélectionner des données présentes dans une table à partir de critères multiples."
   ]
  },
  {
   "cell_type": "markdown",
   "metadata": {},
   "source": [
    "---\n",
    "[![Licence CC BY NC SA](https://licensebuttons.net/l/by-nc-sa/3.0/88x31.png \"licence Creative Commons CC BY-NC-SA\")](http://creativecommons.org/licenses/by-nc-sa/3.0/fr/)\n",
    "<p style=\"text-align: center;\">Auteur : David Landry, Lycée Clemenceau - Nantes</p>"
   ]
  }
 ],
 "metadata": {
  "kernelspec": {
   "display_name": "Python 3",
   "language": "python",
   "name": "python3"
  },
  "language_info": {
   "codemirror_mode": {
    "name": "ipython",
    "version": 3
   },
   "file_extension": ".py",
   "mimetype": "text/x-python",
   "name": "python",
   "nbconvert_exporter": "python",
   "pygments_lexer": "ipython3",
   "version": "3.8.3"
  }
 },
 "nbformat": 4,
 "nbformat_minor": 2
}
